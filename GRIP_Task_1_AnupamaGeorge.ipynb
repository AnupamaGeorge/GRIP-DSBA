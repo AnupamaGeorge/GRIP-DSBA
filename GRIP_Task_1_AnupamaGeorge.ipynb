{
  "nbformat": 4,
  "nbformat_minor": 0,
  "metadata": {
    "colab": {
      "name": "GRIP Task#1_AnupamaGeorge.ipynb",
      "provenance": []
    },
    "kernelspec": {
      "name": "python3",
      "display_name": "Python 3"
    }
  },
  "cells": [
    {
      "cell_type": "markdown",
      "metadata": {
        "id": "vCr3GWbv09o9"
      },
      "source": [
        "# **ANUPAMA GEORGE**\n",
        "\n",
        "TASK #1  UNDER DATA SCIENCE AND BUSINESS ANALYTICS DOMAIN\n",
        "\n",
        "(Prediction using Supervised ML)\n",
        "\n",
        "**GRIP - THE SPARKS FOUNDATION** \n",
        "\n",
        "**OBJECTIVE:** \n",
        "\n",
        "1) To find out if there is a significant relationship between number of hours spent in studying and the scores.\n",
        "\n",
        "2) To predict score given number of hours."
      ]
    },
    {
      "cell_type": "code",
      "metadata": {
        "id": "wFqULD-E1o67",
        "outputId": "f5d8ebfb-9a35-4dc0-dc4a-97bca0b55221",
        "colab": {
          "base_uri": "https://localhost:8080/",
          "height": 70
        }
      },
      "source": [
        "#Importing relevant libraries\n",
        "\n",
        "import pandas as pd\n",
        "import numpy as np\n",
        "\n",
        "import seaborn as sns\n",
        "import matplotlib.pyplot as plt\n",
        "%matplotlib inline\n",
        "\n",
        "from sklearn.model_selection import train_test_split\n",
        "import statsmodels.api as sm\n",
        "from sklearn.linear_model import LinearRegression"
      ],
      "execution_count": 1,
      "outputs": [
        {
          "output_type": "stream",
          "text": [
            "/usr/local/lib/python3.6/dist-packages/statsmodels/tools/_testing.py:19: FutureWarning: pandas.util.testing is deprecated. Use the functions in the public API at pandas.testing instead.\n",
            "  import pandas.util.testing as tm\n"
          ],
          "name": "stderr"
        }
      ]
    },
    {
      "cell_type": "code",
      "metadata": {
        "id": "wub1D3wt34Tj",
        "outputId": "f190f58c-ca07-4df7-ccf6-f83b0cc21e2f",
        "colab": {
          "base_uri": "https://localhost:8080/",
          "height": 195
        }
      },
      "source": [
        "#Reading the dataset \n",
        "\n",
        "df = pd.read_csv('/content/student_scores - student_scores.csv')\n",
        "df.head()"
      ],
      "execution_count": 2,
      "outputs": [
        {
          "output_type": "execute_result",
          "data": {
            "text/html": [
              "<div>\n",
              "<style scoped>\n",
              "    .dataframe tbody tr th:only-of-type {\n",
              "        vertical-align: middle;\n",
              "    }\n",
              "\n",
              "    .dataframe tbody tr th {\n",
              "        vertical-align: top;\n",
              "    }\n",
              "\n",
              "    .dataframe thead th {\n",
              "        text-align: right;\n",
              "    }\n",
              "</style>\n",
              "<table border=\"1\" class=\"dataframe\">\n",
              "  <thead>\n",
              "    <tr style=\"text-align: right;\">\n",
              "      <th></th>\n",
              "      <th>Hours</th>\n",
              "      <th>Scores</th>\n",
              "    </tr>\n",
              "  </thead>\n",
              "  <tbody>\n",
              "    <tr>\n",
              "      <th>0</th>\n",
              "      <td>2.5</td>\n",
              "      <td>21</td>\n",
              "    </tr>\n",
              "    <tr>\n",
              "      <th>1</th>\n",
              "      <td>5.1</td>\n",
              "      <td>47</td>\n",
              "    </tr>\n",
              "    <tr>\n",
              "      <th>2</th>\n",
              "      <td>3.2</td>\n",
              "      <td>27</td>\n",
              "    </tr>\n",
              "    <tr>\n",
              "      <th>3</th>\n",
              "      <td>8.5</td>\n",
              "      <td>75</td>\n",
              "    </tr>\n",
              "    <tr>\n",
              "      <th>4</th>\n",
              "      <td>3.5</td>\n",
              "      <td>30</td>\n",
              "    </tr>\n",
              "  </tbody>\n",
              "</table>\n",
              "</div>"
            ],
            "text/plain": [
              "   Hours  Scores\n",
              "0    2.5      21\n",
              "1    5.1      47\n",
              "2    3.2      27\n",
              "3    8.5      75\n",
              "4    3.5      30"
            ]
          },
          "metadata": {
            "tags": []
          },
          "execution_count": 2
        }
      ]
    },
    {
      "cell_type": "markdown",
      "metadata": {
        "id": "M28npAcj4Kh1"
      },
      "source": [
        "## Understanding the data - Exploratory Data Analysis"
      ]
    },
    {
      "cell_type": "code",
      "metadata": {
        "id": "1bGmwad_4SVj",
        "outputId": "c4c87ed0-0647-4453-f444-91e1664b04af",
        "colab": {
          "base_uri": "https://localhost:8080/",
          "height": 34
        }
      },
      "source": [
        "#shape of the dataset\n",
        "print(f'The number of rows in the dataset is {df.shape[0]} and columns is {df.shape[1]}.')"
      ],
      "execution_count": 3,
      "outputs": [
        {
          "output_type": "stream",
          "text": [
            "The number of rows in the dataset is 25 and columns is 2.\n"
          ],
          "name": "stdout"
        }
      ]
    },
    {
      "cell_type": "markdown",
      "metadata": {
        "id": "pnLCKqGO5fEI"
      },
      "source": [
        "Based on our objective, the independent variable is the number of hours and the dependent variable is the score. Let us explore their relationship and carry out assumption checks before we move on to model building."
      ]
    },
    {
      "cell_type": "code",
      "metadata": {
        "id": "rtHmWlb988p-",
        "outputId": "d3eb2d86-23f7-4560-c545-4fba7e2ab9a9",
        "colab": {
          "base_uri": "https://localhost:8080/",
          "height": 106
        }
      },
      "source": [
        "#Descriptive statistics\n",
        "df.describe().T"
      ],
      "execution_count": 4,
      "outputs": [
        {
          "output_type": "execute_result",
          "data": {
            "text/html": [
              "<div>\n",
              "<style scoped>\n",
              "    .dataframe tbody tr th:only-of-type {\n",
              "        vertical-align: middle;\n",
              "    }\n",
              "\n",
              "    .dataframe tbody tr th {\n",
              "        vertical-align: top;\n",
              "    }\n",
              "\n",
              "    .dataframe thead th {\n",
              "        text-align: right;\n",
              "    }\n",
              "</style>\n",
              "<table border=\"1\" class=\"dataframe\">\n",
              "  <thead>\n",
              "    <tr style=\"text-align: right;\">\n",
              "      <th></th>\n",
              "      <th>count</th>\n",
              "      <th>mean</th>\n",
              "      <th>std</th>\n",
              "      <th>min</th>\n",
              "      <th>25%</th>\n",
              "      <th>50%</th>\n",
              "      <th>75%</th>\n",
              "      <th>max</th>\n",
              "    </tr>\n",
              "  </thead>\n",
              "  <tbody>\n",
              "    <tr>\n",
              "      <th>Hours</th>\n",
              "      <td>25.0</td>\n",
              "      <td>5.012</td>\n",
              "      <td>2.525094</td>\n",
              "      <td>1.1</td>\n",
              "      <td>2.7</td>\n",
              "      <td>4.8</td>\n",
              "      <td>7.4</td>\n",
              "      <td>9.2</td>\n",
              "    </tr>\n",
              "    <tr>\n",
              "      <th>Scores</th>\n",
              "      <td>25.0</td>\n",
              "      <td>51.480</td>\n",
              "      <td>25.286887</td>\n",
              "      <td>17.0</td>\n",
              "      <td>30.0</td>\n",
              "      <td>47.0</td>\n",
              "      <td>75.0</td>\n",
              "      <td>95.0</td>\n",
              "    </tr>\n",
              "  </tbody>\n",
              "</table>\n",
              "</div>"
            ],
            "text/plain": [
              "        count    mean        std   min   25%   50%   75%   max\n",
              "Hours    25.0   5.012   2.525094   1.1   2.7   4.8   7.4   9.2\n",
              "Scores   25.0  51.480  25.286887  17.0  30.0  47.0  75.0  95.0"
            ]
          },
          "metadata": {
            "tags": []
          },
          "execution_count": 4
        }
      ]
    },
    {
      "cell_type": "markdown",
      "metadata": {
        "id": "pPhXXhrv9A-W"
      },
      "source": [
        "If we compare the mean and median of both variables, in both cases we see that median(2nd quantile) is lesser than the mean indicating a slight right skew."
      ]
    },
    {
      "cell_type": "code",
      "metadata": {
        "id": "1T5rnYl19mEw",
        "outputId": "404a1d69-ab9c-487e-9143-57de4fb2c74d",
        "colab": {
          "base_uri": "https://localhost:8080/",
          "height": 67
        }
      },
      "source": [
        "df.skew()"
      ],
      "execution_count": 5,
      "outputs": [
        {
          "output_type": "execute_result",
          "data": {
            "text/plain": [
              "Hours     0.190338\n",
              "Scores    0.233965\n",
              "dtype: float64"
            ]
          },
          "metadata": {
            "tags": []
          },
          "execution_count": 5
        }
      ]
    },
    {
      "cell_type": "markdown",
      "metadata": {
        "id": "o1r0muxX_y_M"
      },
      "source": [
        "\n",
        "Since both skewness values are greater than zero but lie within the acceptable range of -0.5 to +0.5, we can say that the data is normal."
      ]
    },
    {
      "cell_type": "code",
      "metadata": {
        "id": "-oxv2gkHACl-",
        "outputId": "f45655d0-7b25-42ca-b71b-36e8a688ed13",
        "colab": {
          "base_uri": "https://localhost:8080/",
          "height": 282
        }
      },
      "source": [
        "#Detecting outliers in the dataset\n",
        "df.boxplot()"
      ],
      "execution_count": 6,
      "outputs": [
        {
          "output_type": "execute_result",
          "data": {
            "text/plain": [
              "<matplotlib.axes._subplots.AxesSubplot at 0x7fc53a58c438>"
            ]
          },
          "metadata": {
            "tags": []
          },
          "execution_count": 6
        },
        {
          "output_type": "display_data",
          "data": {
            "image/png": "[encoded data removed]",
            "text/plain": [
              "<Figure size 432x288 with 1 Axes>"
            ]
          },
          "metadata": {
            "tags": [],
            "needs_background": "light"
          }
        }
      ]
    },
    {
      "cell_type": "code",
      "metadata": {
        "id": "pg21Zzdl5fdt",
        "outputId": "3f354f0c-227a-4568-b9b4-a4f7e38618db",
        "colab": {
          "base_uri": "https://localhost:8080/",
          "height": 286
        }
      },
      "source": [
        "#Checking relationship between the variables using visualizations\n",
        "\n",
        "sns.heatmap(df.corr(),annot=True)"
      ],
      "execution_count": 7,
      "outputs": [
        {
          "output_type": "execute_result",
          "data": {
            "text/plain": [
              "<matplotlib.axes._subplots.AxesSubplot at 0x7fc53a5627f0>"
            ]
          },
          "metadata": {
            "tags": []
          },
          "execution_count": 7
        },
        {
          "output_type": "display_data",
          "data": {
            "image/png": "[encoded data removed]",
            "text/plain": [
              "<Figure size 432x288 with 2 Axes>"
            ]
          },
          "metadata": {
            "tags": [],
            "needs_background": "light"
          }
        }
      ]
    },
    {
      "cell_type": "markdown",
      "metadata": {
        "id": "pluyySm75xej"
      },
      "source": [
        "We can see very high positive correlation between hours and scores (r = +0.98)"
      ]
    },
    {
      "cell_type": "code",
      "metadata": {
        "id": "PyvL4q8y5vu4",
        "outputId": "6d3e8f17-9df1-4ef2-aa57-6c411ee312f5",
        "colab": {
          "base_uri": "https://localhost:8080/",
          "height": 391
        }
      },
      "source": [
        "sns.pairplot(df, diag_kind='kde')"
      ],
      "execution_count": 8,
      "outputs": [
        {
          "output_type": "execute_result",
          "data": {
            "text/plain": [
              "<seaborn.axisgrid.PairGrid at 0x7fc53a4e38d0>"
            ]
          },
          "metadata": {
            "tags": []
          },
          "execution_count": 8
        },
        {
          "output_type": "display_data",
          "data": {
            "image/png": "[encoded data removed]",
            "text/plain": [
              "<Figure size 360x360 with 6 Axes>"
            ]
          },
          "metadata": {
            "tags": [],
            "needs_background": "light"
          }
        }
      ]
    },
    {
      "cell_type": "markdown",
      "metadata": {
        "id": "nEJIOaZE6L2X"
      },
      "source": [
        "From the above graph we can see a strong positive linear relationship between the two variables, however, the kde plot of each variable shows bimodality. We need to check for the assumptions of Linear Regression before building the model."
      ]
    },
    {
      "cell_type": "markdown",
      "metadata": {
        "id": "ULnWfm8xAGtm"
      },
      "source": [
        "From the boxplots we can see that there are no outliers in the dataset."
      ]
    },
    {
      "cell_type": "markdown",
      "metadata": {
        "id": "HCfrBaJo4R3n"
      },
      "source": [
        "#Creating Base Model"
      ]
    },
    {
      "cell_type": "code",
      "metadata": {
        "id": "BYKazb6R59jb",
        "outputId": "c8e84080-db47-4a52-efb2-1c17d9a773b0",
        "colab": {
          "base_uri": "https://localhost:8080/",
          "height": 426
        }
      },
      "source": [
        "# Raw OLS Model\n",
        "X=df['Hours']\n",
        "y=df['Scores']\n",
        "import statsmodels.formula.api as smf\n",
        "\n",
        "lin_reg=smf.ols('Scores ~ Hours ', data=df).fit()\n",
        "\n",
        "#X_constant = sm.add_constant(X)  #does not automatically learn intercept\n",
        "#lin_reg = sm.OLS(y,X_constant).fit()\n",
        "\n",
        "lin_reg.summary() "
      ],
      "execution_count": 9,
      "outputs": [
        {
          "output_type": "execute_result",
          "data": {
            "text/html": [
              "<table class=\"simpletable\">\n",
              "<caption>OLS Regression Results</caption>\n",
              "<tr>\n",
              "  <th>Dep. Variable:</th>         <td>Scores</td>      <th>  R-squared:         </th> <td>   0.953</td>\n",
              "</tr>\n",
              "<tr>\n",
              "  <th>Model:</th>                   <td>OLS</td>       <th>  Adj. R-squared:    </th> <td>   0.951</td>\n",
              "</tr>\n",
              "<tr>\n",
              "  <th>Method:</th>             <td>Least Squares</td>  <th>  F-statistic:       </th> <td>   465.8</td>\n",
              "</tr>\n",
              "<tr>\n",
              "  <th>Date:</th>             <td>Wed, 21 Oct 2020</td> <th>  Prob (F-statistic):</th> <td>9.13e-17</td>\n",
              "</tr>\n",
              "<tr>\n",
              "  <th>Time:</th>                 <td>13:37:36</td>     <th>  Log-Likelihood:    </th> <td> -77.514</td>\n",
              "</tr>\n",
              "<tr>\n",
              "  <th>No. Observations:</th>      <td>    25</td>      <th>  AIC:               </th> <td>   159.0</td>\n",
              "</tr>\n",
              "<tr>\n",
              "  <th>Df Residuals:</th>          <td>    23</td>      <th>  BIC:               </th> <td>   161.5</td>\n",
              "</tr>\n",
              "<tr>\n",
              "  <th>Df Model:</th>              <td>     1</td>      <th>                     </th>     <td> </td>   \n",
              "</tr>\n",
              "<tr>\n",
              "  <th>Covariance Type:</th>      <td>nonrobust</td>    <th>                     </th>     <td> </td>   \n",
              "</tr>\n",
              "</table>\n",
              "<table class=\"simpletable\">\n",
              "<tr>\n",
              "      <td></td>         <th>coef</th>     <th>std err</th>      <th>t</th>      <th>P>|t|</th>  <th>[0.025</th>    <th>0.975]</th>  \n",
              "</tr>\n",
              "<tr>\n",
              "  <th>Intercept</th> <td>    2.4837</td> <td>    2.532</td> <td>    0.981</td> <td> 0.337</td> <td>   -2.753</td> <td>    7.721</td>\n",
              "</tr>\n",
              "<tr>\n",
              "  <th>Hours</th>     <td>    9.7758</td> <td>    0.453</td> <td>   21.583</td> <td> 0.000</td> <td>    8.839</td> <td>   10.713</td>\n",
              "</tr>\n",
              "</table>\n",
              "<table class=\"simpletable\">\n",
              "<tr>\n",
              "  <th>Omnibus:</th>       <td> 7.616</td> <th>  Durbin-Watson:     </th> <td>   1.460</td>\n",
              "</tr>\n",
              "<tr>\n",
              "  <th>Prob(Omnibus):</th> <td> 0.022</td> <th>  Jarque-Bera (JB):  </th> <td>   2.137</td>\n",
              "</tr>\n",
              "<tr>\n",
              "  <th>Skew:</th>          <td>-0.216</td> <th>  Prob(JB):          </th> <td>   0.343</td>\n",
              "</tr>\n",
              "<tr>\n",
              "  <th>Kurtosis:</th>      <td> 1.634</td> <th>  Cond. No.          </th> <td>    13.0</td>\n",
              "</tr>\n",
              "</table><br/><br/>Warnings:<br/>[1] Standard Errors assume that the covariance matrix of the errors is correctly specified."
            ],
            "text/plain": [
              "<class 'statsmodels.iolib.summary.Summary'>\n",
              "\"\"\"\n",
              "                            OLS Regression Results                            \n",
              "==============================================================================\n",
              "Dep. Variable:                 Scores   R-squared:                       0.953\n",
              "Model:                            OLS   Adj. R-squared:                  0.951\n",
              "Method:                 Least Squares   F-statistic:                     465.8\n",
              "Date:                Wed, 21 Oct 2020   Prob (F-statistic):           9.13e-17\n",
              "Time:                        13:37:36   Log-Likelihood:                -77.514\n",
              "No. Observations:                  25   AIC:                             159.0\n",
              "Df Residuals:                      23   BIC:                             161.5\n",
              "Df Model:                           1                                         \n",
              "Covariance Type:            nonrobust                                         \n",
              "==============================================================================\n",
              "                 coef    std err          t      P>|t|      [0.025      0.975]\n",
              "------------------------------------------------------------------------------\n",
              "Intercept      2.4837      2.532      0.981      0.337      -2.753       7.721\n",
              "Hours          9.7758      0.453     21.583      0.000       8.839      10.713\n",
              "==============================================================================\n",
              "Omnibus:                        7.616   Durbin-Watson:                   1.460\n",
              "Prob(Omnibus):                  0.022   Jarque-Bera (JB):                2.137\n",
              "Skew:                          -0.216   Prob(JB):                        0.343\n",
              "Kurtosis:                       1.634   Cond. No.                         13.0\n",
              "==============================================================================\n",
              "\n",
              "Warnings:\n",
              "[1] Standard Errors assume that the covariance matrix of the errors is correctly specified.\n",
              "\"\"\""
            ]
          },
          "metadata": {
            "tags": []
          },
          "execution_count": 9
        }
      ]
    },
    {
      "cell_type": "markdown",
      "metadata": {
        "id": "b8WfZWQo2jeZ"
      },
      "source": [
        "We can see from the summary that Hours has a significant impact on scores as pvalue<0.05."
      ]
    },
    {
      "cell_type": "markdown",
      "metadata": {
        "id": "BEAU1gw-A8oU"
      },
      "source": [
        "# Linear Regression Assumptions"
      ]
    },
    {
      "cell_type": "markdown",
      "metadata": {
        "id": "cZmqqZKEdvNA"
      },
      "source": [
        "Checking for Linearity\n"
      ]
    },
    {
      "cell_type": "code",
      "metadata": {
        "id": "ct8T7XLYOd29",
        "outputId": "2b3fd355-e5eb-4413-9b1f-f354ecf6ca65",
        "colab": {
          "base_uri": "https://localhost:8080/",
          "height": 34
        }
      },
      "source": [
        "#Rainbow Test For Linearity\n",
        "sm.stats.diagnostic.linear_rainbow(res=lin_reg, frac=0.5) # any fraction of the data randomly taken should be linear to assume linearity for the entire dataset"
      ],
      "execution_count": 11,
      "outputs": [
        {
          "output_type": "execute_result",
          "data": {
            "text/plain": [
              "(2.122962100893772, 0.11910586650135217)"
            ]
          },
          "metadata": {
            "tags": []
          },
          "execution_count": 11
        }
      ]
    },
    {
      "cell_type": "markdown",
      "metadata": {
        "id": "4XyxCIBAO_nT"
      },
      "source": [
        "The null hypothesis is the fit of the model using full sample is the same as using a central subset. The null hypothesis is rejected whenever the overall fit is significantly worse than the fit for the subsample. Since the pvalue is greater than 0.05 we may accept the null hypothesis of linearity."
      ]
    },
    {
      "cell_type": "code",
      "metadata": {
        "id": "cb00owUG-Tft",
        "outputId": "08db71f7-f037-4c16-b52a-257eb1f5bbb9",
        "colab": {
          "base_uri": "https://localhost:8080/",
          "height": 34
        }
      },
      "source": [
        "#Shapiro-Wilk test for Normality\n",
        "#Since the sample size is very small we are using this test instead of Jarque Bera.\n",
        "import scipy\n",
        "scipy.stats.shapiro(resids)"
      ],
      "execution_count": 34,
      "outputs": [
        {
          "output_type": "execute_result",
          "data": {
            "text/plain": [
              "(0.904010534286499, 0.02245512418448925)"
            ]
          },
          "metadata": {
            "tags": []
          },
          "execution_count": 34
        }
      ]
    },
    {
      "cell_type": "markdown",
      "metadata": {
        "id": "KMFvfr8OPnOd"
      },
      "source": [
        "Since pvalue is lesser than 0.05, we may fail to accept the null hypothesis of normality."
      ]
    },
    {
      "cell_type": "code",
      "metadata": {
        "id": "pup85-btfcnL",
        "outputId": "f9387ef1-93df-42c4-adfb-959deefb81b5",
        "colab": {
          "base_uri": "https://localhost:8080/",
          "height": 335
        }
      },
      "source": [
        "sns.distplot(resids)"
      ],
      "execution_count": 30,
      "outputs": [
        {
          "output_type": "stream",
          "text": [
            "/usr/local/lib/python3.6/dist-packages/seaborn/distributions.py:2551: FutureWarning: `distplot` is a deprecated function and will be removed in a future version. Please adapt your code to use either `displot` (a figure-level function with similar flexibility) or `histplot` (an axes-level function for histograms).\n",
            "  warnings.warn(msg, FutureWarning)\n"
          ],
          "name": "stderr"
        },
        {
          "output_type": "execute_result",
          "data": {
            "text/plain": [
              "<matplotlib.axes._subplots.AxesSubplot at 0x7fc53a535b38>"
            ]
          },
          "metadata": {
            "tags": []
          },
          "execution_count": 30
        },
        {
          "output_type": "display_data",
          "data": {
            "image/png": "[encoded data removed]",
            "text/plain": [
              "<Figure size 432x288 with 1 Axes>"
            ]
          },
          "metadata": {
            "tags": [],
            "needs_background": "light"
          }
        }
      ]
    },
    {
      "cell_type": "code",
      "metadata": {
        "id": "HoH08a_H-eRC"
      },
      "source": [
        "#Durbin-Watson test for Autocorrelation\n",
        "\n",
        "\n",
        "# - It's value ranges from 0-4. If the value of Durbin- Watson is Between 0-2, it's known as Positive Autocorrelation.\n",
        "# - If the value ranges from 2-4, it is known as Negative autocorrelation.\n",
        "# - If the value is exactly 2, it means No Autocorrelation.\n",
        "# - For a good linear model, it should have low or no autocorrelation.\n",
        "\n",
        "# As can be seen from the OLS Summary the value of the Durbin-Watson test statistic is 1.460.  (SLIGHT POSITIVE AUTO-CORRELATION) Very close to acceptable range\n",
        "# Since this is not a time series dataset we cannot use lags to resolve this issue. "
      ],
      "execution_count": 13,
      "outputs": []
    },
    {
      "cell_type": "code",
      "metadata": {
        "id": "bm7eivUGY4V4",
        "outputId": "034f7726-4baa-4b71-a95d-b59f0adeedbf",
        "colab": {
          "base_uri": "https://localhost:8080/",
          "height": 34
        }
      },
      "source": [
        "import statsmodels\n",
        "statsmodels.stats.stattools.durbin_watson(lin_reg.resid, axis=0)"
      ],
      "execution_count": 14,
      "outputs": [
        {
          "output_type": "execute_result",
          "data": {
            "text/plain": [
              "1.4601573762506714"
            ]
          },
          "metadata": {
            "tags": []
          },
          "execution_count": 14
        }
      ]
    },
    {
      "cell_type": "code",
      "metadata": {
        "id": "cWdO0VUabZ4k",
        "outputId": "428e3521-607f-42fe-ff64-176c2a7fe8de",
        "colab": {
          "base_uri": "https://localhost:8080/",
          "height": 310
        }
      },
      "source": [
        "    fitted_vals = lin_reg.predict()\n",
        "    resids = lin_reg.resid\n",
        "\n",
        "    fig, ax = plt.subplots(1,2)\n",
        "    \n",
        "    sns.regplot(x=fitted_vals, y=y, lowess=True, ax=ax[0], line_kws={'color': 'red'})\n",
        "    ax[0].set_title('Observed vs. Predicted Values', fontsize=10)\n",
        "    ax[0].set(xlabel='Predicted', ylabel='Observed')\n",
        "\n",
        "    sns.regplot(x=fitted_vals, y=resids, lowess=True, ax=ax[1], line_kws={'color': 'red'})\n",
        "    ax[1].set_title('Residuals vs. Predicted Values', fontsize=10)\n",
        "    ax[1].set(xlabel='Predicted', ylabel='Residuals')"
      ],
      "execution_count": 29,
      "outputs": [
        {
          "output_type": "execute_result",
          "data": {
            "text/plain": [
              "[Text(0, 0.5, 'Residuals'), Text(0.5, 0, 'Predicted')]"
            ]
          },
          "metadata": {
            "tags": []
          },
          "execution_count": 29
        },
        {
          "output_type": "display_data",
          "data": {
            "image/png": "[encoded data removed]",
            "text/plain": [
              "<Figure size 432x288 with 2 Axes>"
            ]
          },
          "metadata": {
            "tags": [],
            "needs_background": "light"
          }
        }
      ]
    },
    {
      "cell_type": "code",
      "metadata": {
        "id": "EBlNc0SrT6BB"
      },
      "source": [
        "#Multicollinearity need not be tested as there is only one feature."
      ],
      "execution_count": 15,
      "outputs": []
    },
    {
      "cell_type": "code",
      "metadata": {
        "id": "9LiQdj0FUdF3",
        "outputId": "d492476a-bc41-47e2-cae3-62b1b603c013",
        "colab": {
          "base_uri": "https://localhost:8080/",
          "height": 34
        }
      },
      "source": [
        "#Goldfeld-Quandt Test for Heteroscedasticity\n",
        "\n",
        "name = ['F statistic', 'p-value']\n",
        "test = sms.het_goldfeldquandt(lin_reg.resid, lin_reg.model.exog)\n",
        "lzip(name, test)"
      ],
      "execution_count": 16,
      "outputs": [
        {
          "output_type": "execute_result",
          "data": {
            "text/plain": [
              "[('F statistic', 0.7744748447886173), ('p-value', 0.652695169229254)]"
            ]
          },
          "metadata": {
            "tags": []
          },
          "execution_count": 16
        }
      ]
    },
    {
      "cell_type": "markdown",
      "metadata": {
        "id": "3hjEzdoDVhDC"
      },
      "source": [
        "Null hypothesis is Homoscedasticity. Since pvalue is greater than 0.05, we may accept null hypothesis of homoscedasticity."
      ]
    },
    {
      "cell_type": "markdown",
      "metadata": {
        "id": "Ha2tOQ6IaCtY"
      },
      "source": [
        "#Building the Linear Regression Model\n",
        "\n",
        "Since all the assumptions are satisfied we can move forward to Model Building."
      ]
    },
    {
      "cell_type": "code",
      "metadata": {
        "id": "C2HG9bngU7jq",
        "outputId": "0f97a6bf-7d69-4d7d-b70e-773e0461fb29",
        "colab": {
          "base_uri": "https://localhost:8080/",
          "height": 50
        }
      },
      "source": [
        "X=df['Hours']\n",
        "y=df['Scores']\n",
        "\n",
        "X_train,X_test,y_train,y_test = train_test_split(X,y,test_size=0.2,random_state=0)\n",
        "print(X_train.shape)\n",
        "print(X_test.shape)\n",
        "\n"
      ],
      "execution_count": 17,
      "outputs": [
        {
          "output_type": "stream",
          "text": [
            "(20,)\n",
            "(5,)\n"
          ],
          "name": "stdout"
        }
      ]
    },
    {
      "cell_type": "code",
      "metadata": {
        "id": "3PPzvw41xft8"
      },
      "source": [
        "#Initializing the model and fitting on train data\n",
        "lin_reg1 = LinearRegression()\n",
        "X_train = np.array(X_train).reshape(-1,1)\n",
        "X_test = np.array(X_test).reshape(-1,1)\n",
        "y_train = np.array(y_train).reshape(-1,1)\n",
        "\n",
        "model = lin_reg1.fit(X_train,y_train)"
      ],
      "execution_count": 18,
      "outputs": []
    },
    {
      "cell_type": "markdown",
      "metadata": {
        "id": "lJw5bzFBdgjq"
      },
      "source": [
        "#Evaluating the model through metrics"
      ]
    },
    {
      "cell_type": "code",
      "metadata": {
        "id": "sFvFvcmibGcH",
        "outputId": "d6d30cd3-0eca-4074-c275-ff8bc97d260c",
        "colab": {
          "base_uri": "https://localhost:8080/",
          "height": 50
        }
      },
      "source": [
        "#Checking the Rsquare value\n",
        "print(f'R^2 score for train: {lin_reg1.score(X_train, y_train)}')\n",
        "print(f'R^2 score for test: {lin_reg1.score(X_test, y_test)}')"
      ],
      "execution_count": 19,
      "outputs": [
        {
          "output_type": "stream",
          "text": [
            "R^2 score for train: 0.9515510725211553\n",
            "R^2 score for test: 0.9454906892105354\n"
          ],
          "name": "stdout"
        }
      ]
    },
    {
      "cell_type": "markdown",
      "metadata": {
        "id": "GDWbV3nhhOku"
      },
      "source": [
        "The R^2 value of both train and test are comparable. Hence the model is generalized."
      ]
    },
    {
      "cell_type": "code",
      "metadata": {
        "id": "1WlDl4jeeEpn",
        "outputId": "2017b1ad-f3ea-4cd5-e6eb-23be4a741f8e",
        "colab": {
          "base_uri": "https://localhost:8080/",
          "height": 101
        }
      },
      "source": [
        "y_pred=lin_reg1.predict(X_test)\n",
        "y_pred"
      ],
      "execution_count": 20,
      "outputs": [
        {
          "output_type": "execute_result",
          "data": {
            "text/plain": [
              "array([[16.88414476],\n",
              "       [33.73226078],\n",
              "       [75.357018  ],\n",
              "       [26.79480124],\n",
              "       [60.49103328]])"
            ]
          },
          "metadata": {
            "tags": []
          },
          "execution_count": 20
        }
      ]
    },
    {
      "cell_type": "code",
      "metadata": {
        "id": "QB2v8-yavtyN"
      },
      "source": [
        "y_pred = list(np.ravel(np.round(y_pred)))\n",
        "y_test = list(np.ravel(y_test))"
      ],
      "execution_count": 31,
      "outputs": []
    },
    {
      "cell_type": "code",
      "metadata": {
        "id": "G5ABxLj8vBpo",
        "outputId": "32d01391-6c90-4bb4-cda6-f2a49af17cc9",
        "colab": {
          "base_uri": "https://localhost:8080/",
          "height": 195
        }
      },
      "source": [
        "pred = pd.DataFrame({'Actual': y_test,'Predicted':y_pred})\n",
        "pred"
      ],
      "execution_count": 32,
      "outputs": [
        {
          "output_type": "execute_result",
          "data": {
            "text/html": [
              "<div>\n",
              "<style scoped>\n",
              "    .dataframe tbody tr th:only-of-type {\n",
              "        vertical-align: middle;\n",
              "    }\n",
              "\n",
              "    .dataframe tbody tr th {\n",
              "        vertical-align: top;\n",
              "    }\n",
              "\n",
              "    .dataframe thead th {\n",
              "        text-align: right;\n",
              "    }\n",
              "</style>\n",
              "<table border=\"1\" class=\"dataframe\">\n",
              "  <thead>\n",
              "    <tr style=\"text-align: right;\">\n",
              "      <th></th>\n",
              "      <th>Actual</th>\n",
              "      <th>Predicted</th>\n",
              "    </tr>\n",
              "  </thead>\n",
              "  <tbody>\n",
              "    <tr>\n",
              "      <th>0</th>\n",
              "      <td>20</td>\n",
              "      <td>17.0</td>\n",
              "    </tr>\n",
              "    <tr>\n",
              "      <th>1</th>\n",
              "      <td>27</td>\n",
              "      <td>34.0</td>\n",
              "    </tr>\n",
              "    <tr>\n",
              "      <th>2</th>\n",
              "      <td>69</td>\n",
              "      <td>75.0</td>\n",
              "    </tr>\n",
              "    <tr>\n",
              "      <th>3</th>\n",
              "      <td>30</td>\n",
              "      <td>27.0</td>\n",
              "    </tr>\n",
              "    <tr>\n",
              "      <th>4</th>\n",
              "      <td>62</td>\n",
              "      <td>60.0</td>\n",
              "    </tr>\n",
              "  </tbody>\n",
              "</table>\n",
              "</div>"
            ],
            "text/plain": [
              "   Actual  Predicted\n",
              "0      20       17.0\n",
              "1      27       34.0\n",
              "2      69       75.0\n",
              "3      30       27.0\n",
              "4      62       60.0"
            ]
          },
          "metadata": {
            "tags": []
          },
          "execution_count": 32
        }
      ]
    },
    {
      "cell_type": "code",
      "metadata": {
        "id": "mqWXzmyvdf1e"
      },
      "source": [
        "from sklearn.metrics import mean_squared_error"
      ],
      "execution_count": 23,
      "outputs": []
    },
    {
      "cell_type": "code",
      "metadata": {
        "id": "22FIHuejfGJ3",
        "outputId": "557706cd-3028-4fdd-f733-e907814aa9bd",
        "colab": {
          "base_uri": "https://localhost:8080/",
          "height": 34
        }
      },
      "source": [
        "print(f'Root Mean Squared of test: {np.sqrt(mean_squared_error(y_test,y_pred))}')"
      ],
      "execution_count": 24,
      "outputs": [
        {
          "output_type": "stream",
          "text": [
            "Root Mean Squared of test: 4.626013402488151\n"
          ],
          "name": "stdout"
        }
      ]
    },
    {
      "cell_type": "markdown",
      "metadata": {
        "id": "dOvM9Kqs08sZ"
      },
      "source": [
        "Since, its a simple linear regression model and only one model has been created, we cannot compare the RMSE value.\n"
      ]
    },
    {
      "cell_type": "code",
      "metadata": {
        "id": "RlPSTH_wfnEn",
        "outputId": "7d7e9879-9b26-491d-d09d-ea91d1097b77",
        "colab": {
          "base_uri": "https://localhost:8080/",
          "height": 252
        }
      },
      "source": [
        "# Plot outputs\n",
        "plt.scatter(X_test, y_test,  color='black')\n",
        "plt.plot(X_test,y_pred, color='blue', linewidth=3)\n",
        "\n",
        "plt.xticks(())\n",
        "plt.yticks(())\n",
        "\n",
        "plt.show()"
      ],
      "execution_count": 25,
      "outputs": [
        {
          "output_type": "display_data",
          "data": {
            "image/png": "[encoded data removed]",
            "text/plain": [
              "<Figure size 432x288 with 1 Axes>"
            ]
          },
          "metadata": {
            "tags": []
          }
        }
      ]
    },
    {
      "cell_type": "code",
      "metadata": {
        "id": "saZp1WZAsy-P",
        "outputId": "b749467e-74ae-463a-d84b-943c289d7995",
        "colab": {
          "base_uri": "https://localhost:8080/",
          "height": 50
        }
      },
      "source": [
        "print(f'The final model is \\n Score = {lin_reg1.intercept_} + {lin_reg1.coef_}*Hours')"
      ],
      "execution_count": 26,
      "outputs": [
        {
          "output_type": "stream",
          "text": [
            "The final model is \n",
            " Score = [2.01816004] + [[9.91065648]]*Hours\n"
          ],
          "name": "stdout"
        }
      ]
    },
    {
      "cell_type": "markdown",
      "metadata": {
        "id": "pk5EGOZNts7_"
      },
      "source": [
        "#Testing the Model on a new input"
      ]
    },
    {
      "cell_type": "code",
      "metadata": {
        "id": "hXDa0k_3hnnF",
        "outputId": "271aa8ae-7772-4fdb-ef39-e5fc29af5ffa",
        "colab": {
          "base_uri": "https://localhost:8080/",
          "height": 34
        }
      },
      "source": [
        "test_input = [9.25]\n",
        "y_pred1= lin_reg1.predict(np.array(test_input).reshape(-1,1))\n",
        "y_pred_final= np.ravel(y_pred1)\n",
        "print(f'If you study for {test_input} hours, then you can score {y_pred_final}.')"
      ],
      "execution_count": 27,
      "outputs": [
        {
          "output_type": "stream",
          "text": [
            "If you study for [9.25] hours, then you can score [93.69173249].\n"
          ],
          "name": "stdout"
        }
      ]
    },
    {
      "cell_type": "markdown",
      "metadata": {
        "id": "zyhq8gY4tzuu"
      },
      "source": [
        "CAVEAT: One should understand with this linear model, if the number of hours is kept on increasing, the marks will go beyond maximum marks. Hence we have to be careful and put realistic hours."
      ]
    }
  ]
}