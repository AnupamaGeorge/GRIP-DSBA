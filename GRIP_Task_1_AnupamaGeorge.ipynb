{
  "nbformat": 4,
  "nbformat_minor": 0,
  "metadata": {
    "colab": {
      "name": "GRIP Task#1_AnupamaGeorge.ipynb",
      "provenance": []
    },
    "kernelspec": {
      "name": "python3",
      "display_name": "Python 3"
    }
  },
  "cells": [
    {
      "cell_type": "markdown",
      "metadata": {
        "id": "vCr3GWbv09o9"
      },
      "source": [
        "# **ANUPAMA GEORGE**\n",
        "\n",
        "TASK #1  UNDER DATA SCIENCE AND BUSINESS ANALYTICS DOMAIN\n",
        "\n",
        "(Prediction using Supervised ML)\n",
        "\n",
        "**GRIP - THE SPARKS FOUNDATION** \n",
        "\n",
        "**OBJECTIVE:** \n",
        "\n",
        "1) To find out if there is a significant relationship between number of hours spent in studying and the scores.\n",
        "\n",
        "2) To predict score given number of hours."
      ]
    },
    {
      "cell_type": "code",
      "metadata": {
        "id": "wFqULD-E1o67"
      },
      "source": [
        "#Importing relevant libraries\n",
        "\n",
        "import pandas as pd\n",
        "\n",
        "import seaborn as sns\n",
        "import matplotlib.pyplot as plt\n",
        "%matplotlib inline\n",
        "\n",
        "from sklearn.model_selection import train_test_split\n",
        "import statsmodels.api as sm\n",
        "from sklearn.linear_model import LinearRegression"
      ],
      "execution_count": 75,
      "outputs": []
    },
    {
      "cell_type": "code",
      "metadata": {
        "id": "wub1D3wt34Tj",
        "outputId": "696ef99f-ec6c-4f46-bc73-4ebf2f589935",
        "colab": {
          "base_uri": "https://localhost:8080/",
          "height": 195
        }
      },
      "source": [
        "#Reading the dataset \n",
        "\n",
        "df = pd.read_csv('/content/student_scores - student_scores.csv')\n",
        "df.head()"
      ],
      "execution_count": 76,
      "outputs": [
        {
          "output_type": "execute_result",
          "data": {
            "text/html": [
              "<div>\n",
              "<style scoped>\n",
              "    .dataframe tbody tr th:only-of-type {\n",
              "        vertical-align: middle;\n",
              "    }\n",
              "\n",
              "    .dataframe tbody tr th {\n",
              "        vertical-align: top;\n",
              "    }\n",
              "\n",
              "    .dataframe thead th {\n",
              "        text-align: right;\n",
              "    }\n",
              "</style>\n",
              "<table border=\"1\" class=\"dataframe\">\n",
              "  <thead>\n",
              "    <tr style=\"text-align: right;\">\n",
              "      <th></th>\n",
              "      <th>Hours</th>\n",
              "      <th>Scores</th>\n",
              "    </tr>\n",
              "  </thead>\n",
              "  <tbody>\n",
              "    <tr>\n",
              "      <th>0</th>\n",
              "      <td>2.5</td>\n",
              "      <td>21</td>\n",
              "    </tr>\n",
              "    <tr>\n",
              "      <th>1</th>\n",
              "      <td>5.1</td>\n",
              "      <td>47</td>\n",
              "    </tr>\n",
              "    <tr>\n",
              "      <th>2</th>\n",
              "      <td>3.2</td>\n",
              "      <td>27</td>\n",
              "    </tr>\n",
              "    <tr>\n",
              "      <th>3</th>\n",
              "      <td>8.5</td>\n",
              "      <td>75</td>\n",
              "    </tr>\n",
              "    <tr>\n",
              "      <th>4</th>\n",
              "      <td>3.5</td>\n",
              "      <td>30</td>\n",
              "    </tr>\n",
              "  </tbody>\n",
              "</table>\n",
              "</div>"
            ],
            "text/plain": [
              "   Hours  Scores\n",
              "0    2.5      21\n",
              "1    5.1      47\n",
              "2    3.2      27\n",
              "3    8.5      75\n",
              "4    3.5      30"
            ]
          },
          "metadata": {
            "tags": []
          },
          "execution_count": 76
        }
      ]
    },
    {
      "cell_type": "markdown",
      "metadata": {
        "id": "M28npAcj4Kh1"
      },
      "source": [
        "## Understanding the data"
      ]
    },
    {
      "cell_type": "code",
      "metadata": {
        "id": "1bGmwad_4SVj",
        "outputId": "8015babd-9d12-4157-e893-e6a8c1f23f8c",
        "colab": {
          "base_uri": "https://localhost:8080/",
          "height": 34
        }
      },
      "source": [
        "#shape of the dataset\n",
        "print(f'The number of rows in the dataset is {df.shape[0]} and columns is {df.shape[1]}.')"
      ],
      "execution_count": 77,
      "outputs": [
        {
          "output_type": "stream",
          "text": [
            "The number of rows in the dataset is 25 and columns is 2.\n"
          ],
          "name": "stdout"
        }
      ]
    },
    {
      "cell_type": "markdown",
      "metadata": {
        "id": "pnLCKqGO5fEI"
      },
      "source": [
        "Based on our objective, the independent variable is the number of hours and the dependent variable is the score. Let us explore their relationship and carry out assumption checks before we move on to model building."
      ]
    },
    {
      "cell_type": "code",
      "metadata": {
        "id": "rtHmWlb988p-",
        "outputId": "9d3938ef-0ea5-4851-a8dd-df759056788c",
        "colab": {
          "base_uri": "https://localhost:8080/",
          "height": 106
        }
      },
      "source": [
        "#Descriptive statistics\n",
        "df.describe().T"
      ],
      "execution_count": 78,
      "outputs": [
        {
          "output_type": "execute_result",
          "data": {
            "text/html": [
              "<div>\n",
              "<style scoped>\n",
              "    .dataframe tbody tr th:only-of-type {\n",
              "        vertical-align: middle;\n",
              "    }\n",
              "\n",
              "    .dataframe tbody tr th {\n",
              "        vertical-align: top;\n",
              "    }\n",
              "\n",
              "    .dataframe thead th {\n",
              "        text-align: right;\n",
              "    }\n",
              "</style>\n",
              "<table border=\"1\" class=\"dataframe\">\n",
              "  <thead>\n",
              "    <tr style=\"text-align: right;\">\n",
              "      <th></th>\n",
              "      <th>count</th>\n",
              "      <th>mean</th>\n",
              "      <th>std</th>\n",
              "      <th>min</th>\n",
              "      <th>25%</th>\n",
              "      <th>50%</th>\n",
              "      <th>75%</th>\n",
              "      <th>max</th>\n",
              "    </tr>\n",
              "  </thead>\n",
              "  <tbody>\n",
              "    <tr>\n",
              "      <th>Hours</th>\n",
              "      <td>25.0</td>\n",
              "      <td>5.012</td>\n",
              "      <td>2.525094</td>\n",
              "      <td>1.1</td>\n",
              "      <td>2.7</td>\n",
              "      <td>4.8</td>\n",
              "      <td>7.4</td>\n",
              "      <td>9.2</td>\n",
              "    </tr>\n",
              "    <tr>\n",
              "      <th>Scores</th>\n",
              "      <td>25.0</td>\n",
              "      <td>51.480</td>\n",
              "      <td>25.286887</td>\n",
              "      <td>17.0</td>\n",
              "      <td>30.0</td>\n",
              "      <td>47.0</td>\n",
              "      <td>75.0</td>\n",
              "      <td>95.0</td>\n",
              "    </tr>\n",
              "  </tbody>\n",
              "</table>\n",
              "</div>"
            ],
            "text/plain": [
              "        count    mean        std   min   25%   50%   75%   max\n",
              "Hours    25.0   5.012   2.525094   1.1   2.7   4.8   7.4   9.2\n",
              "Scores   25.0  51.480  25.286887  17.0  30.0  47.0  75.0  95.0"
            ]
          },
          "metadata": {
            "tags": []
          },
          "execution_count": 78
        }
      ]
    },
    {
      "cell_type": "markdown",
      "metadata": {
        "id": "pPhXXhrv9A-W"
      },
      "source": [
        "If we compare the mean and median of both variables, in both cases we see that median(2nd quantile) is lesser than the mean indicating a slight right skew."
      ]
    },
    {
      "cell_type": "code",
      "metadata": {
        "id": "1T5rnYl19mEw",
        "outputId": "32a4c672-c6ac-40b9-ef81-3ed8f6e1accc",
        "colab": {
          "base_uri": "https://localhost:8080/",
          "height": 67
        }
      },
      "source": [
        "df.skew()"
      ],
      "execution_count": 79,
      "outputs": [
        {
          "output_type": "execute_result",
          "data": {
            "text/plain": [
              "Hours     0.190338\n",
              "Scores    0.233965\n",
              "dtype: float64"
            ]
          },
          "metadata": {
            "tags": []
          },
          "execution_count": 79
        }
      ]
    },
    {
      "cell_type": "markdown",
      "metadata": {
        "id": "o1r0muxX_y_M"
      },
      "source": [
        "Since both skewness values are greater than zero we can say that the data might be non-normal tending towards slight right skew. Need to check non-normality with a statistical test."
      ]
    },
    {
      "cell_type": "code",
      "metadata": {
        "id": "-oxv2gkHACl-",
        "outputId": "574bece0-344d-40f1-8d7a-0c02880dbb22",
        "colab": {
          "base_uri": "https://localhost:8080/",
          "height": 282
        }
      },
      "source": [
        "#Detecting outliers in the dataset\n",
        "df.boxplot()"
      ],
      "execution_count": 83,
      "outputs": [
        {
          "output_type": "execute_result",
          "data": {
            "text/plain": [
              "<matplotlib.axes._subplots.AxesSubplot at 0x7f03ea102588>"
            ]
          },
          "metadata": {
            "tags": []
          },
          "execution_count": 83
        },
        {
          "output_type": "display_data",
          "data": {
            "image/png": "[encoded data removed]",
            "text/plain": [
              "<Figure size 432x288 with 1 Axes>"
            ]
          },
          "metadata": {
            "tags": [],
            "needs_background": "light"
          }
        }
      ]
    },
    {
      "cell_type": "code",
      "metadata": {
        "id": "pg21Zzdl5fdt",
        "outputId": "59da07db-bbb1-42c4-b65a-adce0968a5c5",
        "colab": {
          "base_uri": "https://localhost:8080/",
          "height": 286
        }
      },
      "source": [
        "#Checking relationship between the variables using visualizations\n",
        "\n",
        "sns.heatmap(df.corr(),annot=True)"
      ],
      "execution_count": 84,
      "outputs": [
        {
          "output_type": "execute_result",
          "data": {
            "text/plain": [
              "<matplotlib.axes._subplots.AxesSubplot at 0x7f03e95ff588>"
            ]
          },
          "metadata": {
            "tags": []
          },
          "execution_count": 84
        },
        {
          "output_type": "display_data",
          "data": {
            "image/png": "[encoded data removed]",
            "text/plain": [
              "<Figure size 432x288 with 2 Axes>"
            ]
          },
          "metadata": {
            "tags": [],
            "needs_background": "light"
          }
        }
      ]
    },
    {
      "cell_type": "markdown",
      "metadata": {
        "id": "pluyySm75xej"
      },
      "source": [
        "We can see very high positive correlation between hours and scores (r = +0.98)"
      ]
    },
    {
      "cell_type": "code",
      "metadata": {
        "id": "PyvL4q8y5vu4",
        "outputId": "0aca3853-6793-44b8-9f56-1e28358308f3",
        "colab": {
          "base_uri": "https://localhost:8080/",
          "height": 391
        }
      },
      "source": [
        "sns.pairplot(df, diag_kind='kde')"
      ],
      "execution_count": 85,
      "outputs": [
        {
          "output_type": "execute_result",
          "data": {
            "text/plain": [
              "<seaborn.axisgrid.PairGrid at 0x7f03ea2a6390>"
            ]
          },
          "metadata": {
            "tags": []
          },
          "execution_count": 85
        },
        {
          "output_type": "display_data",
          "data": {
            "image/png": "[encoded data removed]",
            "text/plain": [
              "<Figure size 360x360 with 6 Axes>"
            ]
          },
          "metadata": {
            "tags": [],
            "needs_background": "light"
          }
        }
      ]
    },
    {
      "cell_type": "markdown",
      "metadata": {
        "id": "nEJIOaZE6L2X"
      },
      "source": [
        "From the above graph we can see a strong positive linear relationship between the two variables, however, the kde plot of each variable shows bimodality. We need to check for the assumptions of Linear Regression before building the model."
      ]
    },
    {
      "cell_type": "markdown",
      "metadata": {
        "id": "ULnWfm8xAGtm"
      },
      "source": [
        "From the boxplots we can see that there are no outliers in the dataset."
      ]
    },
    {
      "cell_type": "markdown",
      "metadata": {
        "id": "HCfrBaJo4R3n"
      },
      "source": [
        "#Creating Base Model"
      ]
    },
    {
      "cell_type": "code",
      "metadata": {
        "id": "BYKazb6R59jb",
        "outputId": "83df1551-894b-48d9-e66c-c08af3c0a7b9",
        "colab": {
          "base_uri": "https://localhost:8080/",
          "height": 426
        }
      },
      "source": [
        "# Raw OLS Model\n",
        "X=df['Hours']\n",
        "y=df['Scores']\n",
        "\n",
        "X_constant = sm.add_constant(X)  #does not automatically learn intercept\n",
        "lin_reg = sm.OLS(y,X_constant).fit()\n",
        "lin_reg.summary() "
      ],
      "execution_count": 86,
      "outputs": [
        {
          "output_type": "execute_result",
          "data": {
            "text/html": [
              "<table class=\"simpletable\">\n",
              "<caption>OLS Regression Results</caption>\n",
              "<tr>\n",
              "  <th>Dep. Variable:</th>         <td>Scores</td>      <th>  R-squared:         </th> <td>   0.953</td>\n",
              "</tr>\n",
              "<tr>\n",
              "  <th>Model:</th>                   <td>OLS</td>       <th>  Adj. R-squared:    </th> <td>   0.951</td>\n",
              "</tr>\n",
              "<tr>\n",
              "  <th>Method:</th>             <td>Least Squares</td>  <th>  F-statistic:       </th> <td>   465.8</td>\n",
              "</tr>\n",
              "<tr>\n",
              "  <th>Date:</th>             <td>Sun, 04 Oct 2020</td> <th>  Prob (F-statistic):</th> <td>9.13e-17</td>\n",
              "</tr>\n",
              "<tr>\n",
              "  <th>Time:</th>                 <td>13:19:45</td>     <th>  Log-Likelihood:    </th> <td> -77.514</td>\n",
              "</tr>\n",
              "<tr>\n",
              "  <th>No. Observations:</th>      <td>    25</td>      <th>  AIC:               </th> <td>   159.0</td>\n",
              "</tr>\n",
              "<tr>\n",
              "  <th>Df Residuals:</th>          <td>    23</td>      <th>  BIC:               </th> <td>   161.5</td>\n",
              "</tr>\n",
              "<tr>\n",
              "  <th>Df Model:</th>              <td>     1</td>      <th>                     </th>     <td> </td>   \n",
              "</tr>\n",
              "<tr>\n",
              "  <th>Covariance Type:</th>      <td>nonrobust</td>    <th>                     </th>     <td> </td>   \n",
              "</tr>\n",
              "</table>\n",
              "<table class=\"simpletable\">\n",
              "<tr>\n",
              "    <td></td>       <th>coef</th>     <th>std err</th>      <th>t</th>      <th>P>|t|</th>  <th>[0.025</th>    <th>0.975]</th>  \n",
              "</tr>\n",
              "<tr>\n",
              "  <th>const</th> <td>    2.4837</td> <td>    2.532</td> <td>    0.981</td> <td> 0.337</td> <td>   -2.753</td> <td>    7.721</td>\n",
              "</tr>\n",
              "<tr>\n",
              "  <th>Hours</th> <td>    9.7758</td> <td>    0.453</td> <td>   21.583</td> <td> 0.000</td> <td>    8.839</td> <td>   10.713</td>\n",
              "</tr>\n",
              "</table>\n",
              "<table class=\"simpletable\">\n",
              "<tr>\n",
              "  <th>Omnibus:</th>       <td> 7.616</td> <th>  Durbin-Watson:     </th> <td>   1.460</td>\n",
              "</tr>\n",
              "<tr>\n",
              "  <th>Prob(Omnibus):</th> <td> 0.022</td> <th>  Jarque-Bera (JB):  </th> <td>   2.137</td>\n",
              "</tr>\n",
              "<tr>\n",
              "  <th>Skew:</th>          <td>-0.216</td> <th>  Prob(JB):          </th> <td>   0.343</td>\n",
              "</tr>\n",
              "<tr>\n",
              "  <th>Kurtosis:</th>      <td> 1.634</td> <th>  Cond. No.          </th> <td>    13.0</td>\n",
              "</tr>\n",
              "</table><br/><br/>Warnings:<br/>[1] Standard Errors assume that the covariance matrix of the errors is correctly specified."
            ],
            "text/plain": [
              "<class 'statsmodels.iolib.summary.Summary'>\n",
              "\"\"\"\n",
              "                            OLS Regression Results                            \n",
              "==============================================================================\n",
              "Dep. Variable:                 Scores   R-squared:                       0.953\n",
              "Model:                            OLS   Adj. R-squared:                  0.951\n",
              "Method:                 Least Squares   F-statistic:                     465.8\n",
              "Date:                Sun, 04 Oct 2020   Prob (F-statistic):           9.13e-17\n",
              "Time:                        13:19:45   Log-Likelihood:                -77.514\n",
              "No. Observations:                  25   AIC:                             159.0\n",
              "Df Residuals:                      23   BIC:                             161.5\n",
              "Df Model:                           1                                         \n",
              "Covariance Type:            nonrobust                                         \n",
              "==============================================================================\n",
              "                 coef    std err          t      P>|t|      [0.025      0.975]\n",
              "------------------------------------------------------------------------------\n",
              "const          2.4837      2.532      0.981      0.337      -2.753       7.721\n",
              "Hours          9.7758      0.453     21.583      0.000       8.839      10.713\n",
              "==============================================================================\n",
              "Omnibus:                        7.616   Durbin-Watson:                   1.460\n",
              "Prob(Omnibus):                  0.022   Jarque-Bera (JB):                2.137\n",
              "Skew:                          -0.216   Prob(JB):                        0.343\n",
              "Kurtosis:                       1.634   Cond. No.                         13.0\n",
              "==============================================================================\n",
              "\n",
              "Warnings:\n",
              "[1] Standard Errors assume that the covariance matrix of the errors is correctly specified.\n",
              "\"\"\""
            ]
          },
          "metadata": {
            "tags": []
          },
          "execution_count": 86
        }
      ]
    },
    {
      "cell_type": "markdown",
      "metadata": {
        "id": "b8WfZWQo2jeZ"
      },
      "source": [
        "We can see from the summary that Hours has a significant impact on scores as pvalue<0.05."
      ]
    },
    {
      "cell_type": "markdown",
      "metadata": {
        "id": "BEAU1gw-A8oU"
      },
      "source": [
        "# Linear Regression Assumptions"
      ]
    },
    {
      "cell_type": "code",
      "metadata": {
        "id": "ct8T7XLYOd29",
        "outputId": "df1c48ff-302d-4ba3-d44e-2f010d07e893",
        "colab": {
          "base_uri": "https://localhost:8080/",
          "height": 34
        }
      },
      "source": [
        "#Rainbow Test For Linearity\n",
        "sm.stats.diagnostic.linear_rainbow(res=lin_reg, frac=0.5) # any fraction of the data randomly taken should be linear to assume linearity for the entire dataset"
      ],
      "execution_count": 87,
      "outputs": [
        {
          "output_type": "execute_result",
          "data": {
            "text/plain": [
              "(2.122962100893772, 0.11910586650135217)"
            ]
          },
          "metadata": {
            "tags": []
          },
          "execution_count": 87
        }
      ]
    },
    {
      "cell_type": "markdown",
      "metadata": {
        "id": "4XyxCIBAO_nT"
      },
      "source": [
        "The null hypothesis is the fit of the model using full sample is the same as using a central subset. The alternative is that the fits are difference. Since the pvalue is greater than 0.05 we may accept the null hypothesis of linearity."
      ]
    },
    {
      "cell_type": "code",
      "metadata": {
        "id": "cb00owUG-Tft",
        "outputId": "ec449708-9eb6-4ab4-b099-def51be9d120",
        "colab": {
          "base_uri": "https://localhost:8080/",
          "height": 34
        }
      },
      "source": [
        "#Shapiro-Wilk test for Normality\n",
        "#Since the sample size is very small we are using this test instead of Jarque Bera.\n",
        "stats.shapiro(X)"
      ],
      "execution_count": 88,
      "outputs": [
        {
          "output_type": "execute_result",
          "data": {
            "text/plain": [
              "(0.9401376247406006, 0.1491180658340454)"
            ]
          },
          "metadata": {
            "tags": []
          },
          "execution_count": 88
        }
      ]
    },
    {
      "cell_type": "markdown",
      "metadata": {
        "id": "KMFvfr8OPnOd"
      },
      "source": [
        "Since pvalue is greater than 0.05, we may accept the null hypothesis of normality."
      ]
    },
    {
      "cell_type": "code",
      "metadata": {
        "id": "HoH08a_H-eRC"
      },
      "source": [
        "#Durbin-Watson test for Autocorrelation\n",
        "\n",
        "\n",
        "# - It's value ranges from 0-4. If the value of Durbin- Watson is Between 0-2, it's known as Positive Autocorrelation.\n",
        "# - If the value ranges from 2-4, it is known as Negative autocorrelation.\n",
        "# - If the value is exactly 2, it means No Autocorrelation.\n",
        "# - For a good linear model, it should have low or no autocorrelation.\n",
        "\n",
        "# As can be seen from the OLS Summary the value of the Durbin-Watson test statistic is 1.460.  (SLIGHT POSITIVE AUTO-CORRELATION) Very close to acceptable range\n",
        "# Since this is not a time series dataset we cannot use lags to resolve this issue. "
      ],
      "execution_count": 14,
      "outputs": []
    },
    {
      "cell_type": "code",
      "metadata": {
        "id": "bm7eivUGY4V4",
        "outputId": "2e1a422a-971d-4980-b9e1-77aa7a144d17",
        "colab": {
          "base_uri": "https://localhost:8080/",
          "height": 34
        }
      },
      "source": [
        "import statsmodels\n",
        "statsmodels.stats.stattools.durbin_watson(lin_reg.resid, axis=0)"
      ],
      "execution_count": 133,
      "outputs": [
        {
          "output_type": "execute_result",
          "data": {
            "text/plain": [
              "1.4601573762506714"
            ]
          },
          "metadata": {
            "tags": []
          },
          "execution_count": 133
        }
      ]
    },
    {
      "cell_type": "code",
      "metadata": {
        "id": "EBlNc0SrT6BB"
      },
      "source": [
        "#Multicollinearity need not be tested as there is only one feature."
      ],
      "execution_count": 16,
      "outputs": []
    },
    {
      "cell_type": "code",
      "metadata": {
        "id": "9LiQdj0FUdF3",
        "outputId": "602f5ab2-079b-446e-d261-8fdf76298b63",
        "colab": {
          "base_uri": "https://localhost:8080/",
          "height": 34
        }
      },
      "source": [
        "#Goldfeld-Quandt Test for Heteroscedasticity\n",
        "from statsmodels.compat import lzip\n",
        "import statsmodels.stats.api as sms\n",
        "\n",
        "name = ['F statistic', 'p-value']\n",
        "test = sms.het_goldfeldquandt(lin_reg.resid, lin_reg.model.exog)\n",
        "lzip(name, test)"
      ],
      "execution_count": 90,
      "outputs": [
        {
          "output_type": "execute_result",
          "data": {
            "text/plain": [
              "[('F statistic', 0.7744748447886173), ('p-value', 0.652695169229254)]"
            ]
          },
          "metadata": {
            "tags": []
          },
          "execution_count": 90
        }
      ]
    },
    {
      "cell_type": "markdown",
      "metadata": {
        "id": "3hjEzdoDVhDC"
      },
      "source": [
        "Null hypothesis is Homoscedasticity. Since pvalue is greater than 0.05, we may accept null hypothesis of homoscedasticity."
      ]
    },
    {
      "cell_type": "markdown",
      "metadata": {
        "id": "Ha2tOQ6IaCtY"
      },
      "source": [
        "#Building the Linear Regression Model\n",
        "\n",
        "Since all the assumptions are satisfied we can move forward to Model Building."
      ]
    },
    {
      "cell_type": "code",
      "metadata": {
        "id": "C2HG9bngU7jq",
        "outputId": "a905338a-ec54-456a-9d28-95c065f4dcc3",
        "colab": {
          "base_uri": "https://localhost:8080/",
          "height": 50
        }
      },
      "source": [
        "import numpy as np\n",
        "X=df['Hours']\n",
        "y=df['Scores']\n",
        "\n",
        "X_train,X_test,y_train,y_test = train_test_split(X,y,test_size=0.2,random_state=0)\n",
        "print(X_train.shape)\n",
        "print(X_test.shape)\n",
        "\n"
      ],
      "execution_count": 119,
      "outputs": [
        {
          "output_type": "stream",
          "text": [
            "(20,)\n",
            "(5,)\n"
          ],
          "name": "stdout"
        }
      ]
    },
    {
      "cell_type": "code",
      "metadata": {
        "id": "3PPzvw41xft8"
      },
      "source": [
        "#Initializing the model and fitting on train data\n",
        "lin_reg1 = LinearRegression()\n",
        "X_train = np.array(X_train).reshape(-1,1)\n",
        "X_test = np.array(X_test).reshape(-1,1)\n",
        "y_train = np.array(y_train).reshape(-1,1)\n",
        "\n",
        "model = lin_reg1.fit(X_train,y_train)"
      ],
      "execution_count": 120,
      "outputs": []
    },
    {
      "cell_type": "markdown",
      "metadata": {
        "id": "lJw5bzFBdgjq"
      },
      "source": [
        "#Checking the model through metrics"
      ]
    },
    {
      "cell_type": "code",
      "metadata": {
        "id": "sFvFvcmibGcH",
        "outputId": "a8bde772-e3c8-4063-81e1-647605096c72",
        "colab": {
          "base_uri": "https://localhost:8080/",
          "height": 50
        }
      },
      "source": [
        "#Checking the Rsquare value\n",
        "print(f'R^2 score for train: {lin_reg1.score(X_train, y_train)}')\n",
        "print(f'R^2 score for test: {lin_reg1.score(X_test, y_test)}')"
      ],
      "execution_count": 121,
      "outputs": [
        {
          "output_type": "stream",
          "text": [
            "R^2 score for train: 0.9515510725211553\n",
            "R^2 score for test: 0.9454906892105354\n"
          ],
          "name": "stdout"
        }
      ]
    },
    {
      "cell_type": "markdown",
      "metadata": {
        "id": "GDWbV3nhhOku"
      },
      "source": [
        "The R^2 value of both train and test are comparable. Hence the model is generalized."
      ]
    },
    {
      "cell_type": "code",
      "metadata": {
        "id": "1WlDl4jeeEpn",
        "outputId": "8b03e681-e337-46df-c568-bcb1cc433adf",
        "colab": {
          "base_uri": "https://localhost:8080/",
          "height": 101
        }
      },
      "source": [
        "y_pred=lin_reg1.predict(X_test)\n",
        "y_pred"
      ],
      "execution_count": 123,
      "outputs": [
        {
          "output_type": "execute_result",
          "data": {
            "text/plain": [
              "array([[16.88414476],\n",
              "       [33.73226078],\n",
              "       [75.357018  ],\n",
              "       [26.79480124],\n",
              "       [60.49103328]])"
            ]
          },
          "metadata": {
            "tags": []
          },
          "execution_count": 123
        }
      ]
    },
    {
      "cell_type": "code",
      "metadata": {
        "id": "QB2v8-yavtyN"
      },
      "source": [
        "y_pred = pd.Series(np.ravel(np.round(y_pred)))\n",
        "y_test = pd.Series(np.ravel(y_test))"
      ],
      "execution_count": 136,
      "outputs": []
    },
    {
      "cell_type": "code",
      "metadata": {
        "id": "G5ABxLj8vBpo",
        "outputId": "47a5aa8f-2805-480e-ca86-78eaa1ef2fe3",
        "colab": {
          "base_uri": "https://localhost:8080/",
          "height": 195
        }
      },
      "source": [
        "pred = pd.DataFrame({'Actual': y_test,'Predicted':y_pred})\n",
        "pred"
      ],
      "execution_count": 137,
      "outputs": [
        {
          "output_type": "execute_result",
          "data": {
            "text/html": [
              "<div>\n",
              "<style scoped>\n",
              "    .dataframe tbody tr th:only-of-type {\n",
              "        vertical-align: middle;\n",
              "    }\n",
              "\n",
              "    .dataframe tbody tr th {\n",
              "        vertical-align: top;\n",
              "    }\n",
              "\n",
              "    .dataframe thead th {\n",
              "        text-align: right;\n",
              "    }\n",
              "</style>\n",
              "<table border=\"1\" class=\"dataframe\">\n",
              "  <thead>\n",
              "    <tr style=\"text-align: right;\">\n",
              "      <th></th>\n",
              "      <th>Actual</th>\n",
              "      <th>Predicted</th>\n",
              "    </tr>\n",
              "  </thead>\n",
              "  <tbody>\n",
              "    <tr>\n",
              "      <th>0</th>\n",
              "      <td>20</td>\n",
              "      <td>17.0</td>\n",
              "    </tr>\n",
              "    <tr>\n",
              "      <th>1</th>\n",
              "      <td>27</td>\n",
              "      <td>34.0</td>\n",
              "    </tr>\n",
              "    <tr>\n",
              "      <th>2</th>\n",
              "      <td>69</td>\n",
              "      <td>75.0</td>\n",
              "    </tr>\n",
              "    <tr>\n",
              "      <th>3</th>\n",
              "      <td>30</td>\n",
              "      <td>27.0</td>\n",
              "    </tr>\n",
              "    <tr>\n",
              "      <th>4</th>\n",
              "      <td>62</td>\n",
              "      <td>60.0</td>\n",
              "    </tr>\n",
              "  </tbody>\n",
              "</table>\n",
              "</div>"
            ],
            "text/plain": [
              "   Actual  Predicted\n",
              "0      20       17.0\n",
              "1      27       34.0\n",
              "2      69       75.0\n",
              "3      30       27.0\n",
              "4      62       60.0"
            ]
          },
          "metadata": {
            "tags": []
          },
          "execution_count": 137
        }
      ]
    },
    {
      "cell_type": "code",
      "metadata": {
        "id": "mqWXzmyvdf1e"
      },
      "source": [
        "from sklearn.metrics import mean_squared_error"
      ],
      "execution_count": 138,
      "outputs": []
    },
    {
      "cell_type": "code",
      "metadata": {
        "id": "22FIHuejfGJ3",
        "outputId": "7f203486-abda-4465-8eb6-c0840782be29",
        "colab": {
          "base_uri": "https://localhost:8080/",
          "height": 34
        }
      },
      "source": [
        "print(f'Root Mean Squared of test: {np.sqrt(mean_squared_error(y_test,y_pred))}')"
      ],
      "execution_count": 139,
      "outputs": [
        {
          "output_type": "stream",
          "text": [
            "Root Mean Squared of test: 4.626013402488151\n"
          ],
          "name": "stdout"
        }
      ]
    },
    {
      "cell_type": "markdown",
      "metadata": {
        "id": "dOvM9Kqs08sZ"
      },
      "source": [
        "Since, its a simple linear regression model and only one model has been created, we cannot compare the RMSE value.\n"
      ]
    },
    {
      "cell_type": "code",
      "metadata": {
        "id": "RlPSTH_wfnEn",
        "outputId": "ebc13ffb-bb3d-49bb-8ea5-9061dad7a226",
        "colab": {
          "base_uri": "https://localhost:8080/",
          "height": 252
        }
      },
      "source": [
        "# Plot outputs\n",
        "plt.scatter(X_test, y_test,  color='black')\n",
        "plt.plot(X_test,y_pred, color='blue', linewidth=3)\n",
        "\n",
        "plt.xticks(())\n",
        "plt.yticks(())\n",
        "\n",
        "plt.show()"
      ],
      "execution_count": 140,
      "outputs": [
        {
          "output_type": "display_data",
          "data": {
            "image/png": "[encoded data removed]",
            "text/plain": [
              "<Figure size 432x288 with 1 Axes>"
            ]
          },
          "metadata": {
            "tags": []
          }
        }
      ]
    },
    {
      "cell_type": "code",
      "metadata": {
        "id": "saZp1WZAsy-P",
        "outputId": "4a98b422-b0df-4d2a-8e6c-ccbf872b3caa",
        "colab": {
          "base_uri": "https://localhost:8080/",
          "height": 50
        }
      },
      "source": [
        "print(f'The final model is \\n Score = {lin_reg1.intercept_} + {lin_reg1.coef_}*Hours')"
      ],
      "execution_count": 141,
      "outputs": [
        {
          "output_type": "stream",
          "text": [
            "The final model is \n",
            " Score = [2.01816004] + [[9.91065648]]*Hours\n"
          ],
          "name": "stdout"
        }
      ]
    },
    {
      "cell_type": "markdown",
      "metadata": {
        "id": "pk5EGOZNts7_"
      },
      "source": [
        "#Testing the Model on a new input"
      ]
    },
    {
      "cell_type": "code",
      "metadata": {
        "id": "hXDa0k_3hnnF",
        "outputId": "90883f73-1032-42fc-9bb1-0b90926ee72e",
        "colab": {
          "base_uri": "https://localhost:8080/",
          "height": 34
        }
      },
      "source": [
        "test_input = [8.5]\n",
        "y_pred1= lin_reg1.predict(np.array(test_input).reshape(-1,1))\n",
        "y_pred_final= np.ravel(y_pred1)\n",
        "print(f'If you study for {test_input} hours, then you can score {y_pred_final}.')"
      ],
      "execution_count": 142,
      "outputs": [
        {
          "output_type": "stream",
          "text": [
            "If you study for [8.5] hours, then you can score [86.25874013].\n"
          ],
          "name": "stdout"
        }
      ]
    },
    {
      "cell_type": "markdown",
      "metadata": {
        "id": "zyhq8gY4tzuu"
      },
      "source": [
        "CAVEAT: One should understand with this linear model, if the number of hours is kept on increasing, the marks will go beyond maximum marks. Hence we have to be careful and put realistic hours."
      ]
    }
  ]
}